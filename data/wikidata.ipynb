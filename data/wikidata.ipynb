{
 "cells": [
  {
   "cell_type": "code",
   "execution_count": 201,
   "metadata": {},
   "outputs": [],
   "source": [
    "# 1. ke každému článku v kategoriích Narození v... najdeme celkové pageviews a vybereme po kategorii page s max pageviews\n",
    "import json"
   ]
  },
  {
   "cell_type": "code",
   "execution_count": 115,
   "metadata": {},
   "outputs": [],
   "source": [
    "# requesty na obecné wikipedia API a na REST API pro pageviews\n",
    "import requests\n",
    "session = requests.Session()\n",
    "def main_api_request(request):\n",
    "    api_url = \"https://cs.wikipedia.org/w/api.php\"\n",
    "    header = {\"Api-User-Agent\": \"michal.zlatkovsky@rozhlas.cz\"}\n",
    "    reply = session.get(url=api_url, headers=header, params=request)\n",
    "    return reply.json()\n",
    "\n",
    "def pageview_api_request(page):\n",
    "    api_url = \"https://wikimedia.org/api/rest_v1/metrics/pageviews/per-article/cs.wikipedia/all-access/all-agents/\" + page + \"/monthly/2015070100/2019070100\"\n",
    "    header = {\"Api-User-Agent\": \"michal.zlatkovsky@rozhlas.cz\"}\n",
    "    reply = session.get(url=api_url, headers=header)\n",
    "    return reply.json()"
   ]
  },
  {
   "cell_type": "code",
   "execution_count": 128,
   "metadata": {},
   "outputs": [],
   "source": [
    "# součet pageviews z měsíčních dat\n",
    "def total_pageviews(data): \n",
    "    return sum([month[\"views\"] for month in data[\"items\"]])"
   ]
  },
  {
   "cell_type": "code",
   "execution_count": 109,
   "metadata": {},
   "outputs": [],
   "source": [
    "# Kategorie:Narození_v_Česku_podle_krajů -> subcats -> články subcats -> pageviews -> max"
   ]
  },
  {
   "cell_type": "code",
   "execution_count": 110,
   "metadata": {},
   "outputs": [],
   "source": [
    "# krajské kategorie\n",
    "request = {\n",
    "    \"action\": \"query\",\n",
    "    \"format\": \"json\",\n",
    "    \"list\": \"categorymembers\",\n",
    "    \"cmtitle\": \"Kategorie:Narození v Česku podle krajů\",\n",
    "    \"cmlimit\": 500\n",
    "}\n",
    "\n",
    "data = main_api_request(request)\n",
    "kraje_cat = [member[\"title\"] for member in data[\"query\"][\"categorymembers\"]]"
   ]
  },
  {
   "cell_type": "code",
   "execution_count": 111,
   "metadata": {},
   "outputs": [],
   "source": [
    "# obsah krajských kategorií; ns 14 je Kategorie:, tím se vyloučí pages zařazené do krajů\n",
    "kraje_subcat = {}\n",
    "for kraj in kraje_cat:\n",
    "    request[\"cmtitle\"] = kraj\n",
    "    kraj_data = main_api_request(request)\n",
    "    kraje_subcat[kraj] = {member[\"title\"]: {} for member in kraj_data[\"query\"][\"categorymembers\"] if member[\"ns\"] == 14}\n",
    "# Praha je město i kraj - vohek\n",
    "kraje_subcat[\"Kategorie:Narození v Praze\"] = {\"Kategorie:Narození v Praze\": {}}"
   ]
  },
  {
   "cell_type": "code",
   "execution_count": null,
   "metadata": {},
   "outputs": [],
   "source": [
    "# obsah obecních kategorií; ns 0 jsou běžné články; + práce s limitem\n",
    "count = 0\n",
    "for kraj in kraje_subcat:\n",
    "    for obec_cat in kraje_subcat[kraj]:\n",
    "        request[\"cmtitle\"] = obec_cat\n",
    "        if \"cmcontinue\" in request: del request[\"cmcontinue\"]\n",
    "        obec_rodaci = {}\n",
    "        finished = False\n",
    "        while not finished:\n",
    "            obec_data = main_api_request(request)\n",
    "            obec_rodaci.update({member[\"title\"]: 0 for member in obec_data[\"query\"][\"categorymembers\"] if member[\"ns\"] == 0})\n",
    "            if \"continue\" in obec_data: \n",
    "                request[\"cmcontinue\"] = obec_data[\"continue\"][\"cmcontinue\"]\n",
    "            else:\n",
    "                finished = True\n",
    "        kraje_subcat[kraj][obec_cat].update(obec_rodaci)\n",
    "        count += 1\n",
    "        print(\"finished \" + str(count))"
   ]
  },
  {
   "cell_type": "code",
   "execution_count": null,
   "metadata": {},
   "outputs": [],
   "source": [
    "# zjištění pageviews - 18814 rodáků\n",
    "count = 0\n",
    "for kraj in kraje_subcat:\n",
    "    for obec in kraje_subcat[kraj]:\n",
    "        for rodak in kraje_subcat[kraj][obec]:\n",
    "            count += 1\n",
    "            if kraje_subcat[kraj][obec][rodak] == 0:\n",
    "                try:\n",
    "                    kraje_subcat[kraj][obec][rodak] = total_pageviews(pageview_api_request(rodak))\n",
    "                except:\n",
    "                    kraje_subcat[kraj][obec][rodak] = 0\n",
    "                print(\"finished \" + str(count))"
   ]
  },
  {
   "cell_type": "code",
   "execution_count": 140,
   "metadata": {},
   "outputs": [],
   "source": [
    "# uložení všech dat pro jistotu\n",
    "with open(\"complete_data.json\", \"w\", encoding=\"utf8\") as file:\n",
    "    file.write(json.dumps(kraje_subcat))"
   ]
  },
  {
   "cell_type": "code",
   "execution_count": null,
   "metadata": {},
   "outputs": [],
   "source": [
    "# vyfiltrování \"nejslavnějšího\" rodáka pro každou obecní kategorii\n",
    "# try/except pro případ, že obecní kat prázdná\n",
    "kraje_subcat_filtered = {}\n",
    "for kraj in kraje_subcat:\n",
    "    kraje_subcat_filtered[kraj] = {}\n",
    "    for obec in kraje_subcat[kraj]:\n",
    "        rodaci = kraje_subcat[kraj][obec]\n",
    "        try:\n",
    "            kraje_subcat_filtered[kraj][obec] = sorted(rodaci.items(), key=lambda x: x[1], reverse=True)[0]\n",
    "        except:\n",
    "            pass"
   ]
  },
  {
   "cell_type": "code",
   "execution_count": 183,
   "metadata": {},
   "outputs": [],
   "source": [
    "with open(\"filtered_data.json\", \"w\", encoding=\"utf8\") as file:\n",
    "    file.write(json.dumps(kraje_subcat_filtered))"
   ]
  },
  {
   "cell_type": "code",
   "execution_count": 200,
   "metadata": {},
   "outputs": [
    {
     "name": "stdout",
     "output_type": "stream",
     "text": [
      "Narození v Jihočeském kraji: Jan Hus - 846945\n",
      "Narození v Jihomoravském kraji: Tomáš Garrigue Masaryk - 1286380\n",
      "Narození v Karlovarském kraji: Jaromír Soukup - 438214\n",
      "Narození v Královéhradeckém kraji: Karel Čapek - 903156\n",
      "Narození v Libereckém kraji: Vlasta Burian - 396573\n",
      "Narození v Moravskoslezském kraji: Jiří Drahoš - 680510\n",
      "Narození v Olomouckém kraji: Ondřej Sokol - 310925\n",
      "Narození v Pardubickém kraji: Bedřich Smetana - 607220\n",
      "Narození v Plzeňském kraji: Karel Gott - 875349\n",
      "Narození v Praze: Karel IV. - 2117348\n",
      "Narození ve Středočeském kraji: Miloš Zeman - 1060359\n",
      "Narození v Ústeckém kraji: Karolína Plíšková - 327401\n",
      "Narození v Kraji Vysočina: Martina Sáblíková - 363405\n",
      "Narození ve Zlínském kraji: Karel Kryl - 340033\n"
     ]
    }
   ],
   "source": [
    "# krajské celebrity\n",
    "for kraj in kraje_subcat_filtered:\n",
    "    krajsti_rodaci = [kraje_subcat_filtered[kraj][obec] for obec in kraje_subcat_filtered[kraj]]\n",
    "    top_rodak = sorted(krajsti_rodaci, key=lambda x: x[1], reverse=True)[0]\n",
    "    print(kraj[10:] + \":\", top_rodak[0], \"-\", top_rodak[1])"
   ]
  }
 ],
 "metadata": {
  "kernelspec": {
   "display_name": "Python 3",
   "language": "python",
   "name": "python3"
  },
  "language_info": {
   "codemirror_mode": {
    "name": "ipython",
    "version": 3
   },
   "file_extension": ".py",
   "mimetype": "text/x-python",
   "name": "python",
   "nbconvert_exporter": "python",
   "pygments_lexer": "ipython3",
   "version": "3.7.3"
  }
 },
 "nbformat": 4,
 "nbformat_minor": 2
}
