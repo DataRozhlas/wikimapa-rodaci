{
 "cells": [
  {
   "cell_type": "code",
   "execution_count": null,
   "metadata": {},
   "outputs": [],
   "source": [
    "# z výstupu z wikidata.ipynb přeměňujeme názvy kategorií na názvy článku a posléze LAU ID obcí\n",
    "# nejčastější případ: kategorie Narození v (obci) má jednu nadkategorii neobsahující \"Narození...\", identickou se stránkou obce\n",
    "# ze stránky obce ID\n",
    "from bs4 import BeautifulSoup\n",
    "import json"
   ]
  },
  {
   "cell_type": "code",
   "execution_count": null,
   "metadata": {},
   "outputs": [],
   "source": [
    "# requesty na obecné wikipedia API\n",
    "import requests\n",
    "session = requests.Session()\n",
    "def api_request(request):\n",
    "    api_url = \"https://cs.wikipedia.org/w/api.php\"\n",
    "    header = {\"Api-User-Agent\": \"michal.zlatkovsky@rozhlas.cz\"}\n",
    "    reply = session.get(url=api_url, headers=header, params=request)\n",
    "    return reply.json()"
   ]
  },
  {
   "cell_type": "code",
   "execution_count": null,
   "metadata": {},
   "outputs": [],
   "source": [
    "def get_obec_pagename(cat_data):\n",
    "    try:\n",
    "        # defaultní případ: obec má Narození.../Kategorie k údržbě, nemá Osobnosti => zbývá jméno obce v kat\n",
    "        cats = [entry[\"*\"] for entry in cat_data[\"parse\"][\"categories\"]]\n",
    "        filtered_cats = [cat for cat in cats if \"Narození\" not in cat and \"Osobnosti\" not in cat and \"Lidé\" not in cat and \"Údržba\" not in cat]\n",
    "        #Osobnosti z..., Lidé z...\n",
    "        if len(filtered_cats) == 0:\n",
    "            filtered_cats = [cat for cat in cats if \"Osobnosti\" in cat or \"Lidé\" in cat]\n",
    "            nadkat = filtered_cats[0]\n",
    "            request = {\"action\": \"parse\", \"format\": \"json\", \"page\": \"Kategorie:\"+nadkat, \"prop\": \"categories\"}\n",
    "            cats = [entry[\"*\"] for entry in api_request(request)[\"parse\"][\"categories\"]]\n",
    "            filtered_cats = [cat for cat in cats if \"Narození\" not in cat and \"Osobnosti\" not in cat and \"Lidé\" not in cat and \"Údržba\" not in cat]\n",
    "        if len(filtered_cats) == 1: return filtered_cats[0]\n",
    "        else: return False\n",
    "    except:\n",
    "        return False"
   ]
  },
  {
   "cell_type": "code",
   "execution_count": null,
   "metadata": {},
   "outputs": [],
   "source": [
    "with open(\"filtered_data.json\", encoding=\"utf8\") as file:\n",
    "    data = json.loads(file.read())"
   ]
  },
  {
   "cell_type": "code",
   "execution_count": null,
   "metadata": {},
   "outputs": [],
   "source": [
    "flat_data = {}\n",
    "# flattening dat\n",
    "for kraj in data:\n",
    "    flat_data.update(data[kraj])"
   ]
  },
  {
   "cell_type": "code",
   "execution_count": null,
   "metadata": {},
   "outputs": [],
   "source": [
    "# kategorie - prvni pass\n",
    "for cat in flat_data:\n",
    "    if len(flat_data[cat]) == 2:\n",
    "        request = {\n",
    "            \"action\": \"parse\",\n",
    "            \"format\": \"json\",\n",
    "            \"page\": cat,\n",
    "            \"prop\": \"categories\"\n",
    "        }\n",
    "        cat_data = api_request(request)\n",
    "        flat_data[cat].append(get_obec_pagename(cat_data))"
   ]
  },
  {
   "cell_type": "code",
   "execution_count": null,
   "metadata": {},
   "outputs": [],
   "source": [
    "# uložení všech dat před manuálním dočištěním\n",
    "with open(\"ident_data_first_pass.json\", \"w\", encoding=\"utf8\") as file:\n",
    "    file.write(json.dumps(flat_data))"
   ]
  },
  {
   "cell_type": "code",
   "execution_count": null,
   "metadata": {},
   "outputs": [],
   "source": [
    "# fix chyb\n",
    "flat_data[\"Kategorie:Narození v Praze\"][2] = \"Praha\"\n",
    "flat_data[\"Kategorie:Narození v Mostě\"][2] = \"Most (město)\"\n",
    "flat_data[\"Kategorie:Narození v Kravařích\"][2] = \"Kravaře\"\n",
    "flat_data[\"Kategorie:Narození v Bílině\"][2] = \"Bílina (město)\"\n",
    "flat_data[\"Kategorie:Narození v Žebráku\"][2] = \"Žebrák (okres Beroun)\""
   ]
  },
  {
   "cell_type": "code",
   "execution_count": null,
   "metadata": {},
   "outputs": [],
   "source": [
    "# scrape ID obci\n",
    "request[\"prop\"] = \"text\"\n",
    "for cat in flat_data:\n",
    "    if len(flat_data[cat]) == 3 and flat_data[cat][2] != False:\n",
    "        try:\n",
    "            request[\"page\"] = flat_data[cat][2]\n",
    "            data = api_request(request)\n",
    "            soup = BeautifulSoup(data[\"parse\"][\"text\"][\"*\"], 'html.parser')\n",
    "            try:\n",
    "                obec_id = soup.find(title=\"Local administrative unit\").parent.parent.td.text.split()[1]\n",
    "            except:\n",
    "                obec_id = soup.find(title=\"CZ-NUTS\").parent.parent.td.text.split()[1]\n",
    "            print(flat_data[cat], obec_id)\n",
    "            flat_data[cat].append(obec_id)\n",
    "        except:\n",
    "            print(cat, \"ERROR!\", flat_data[cat])"
   ]
  },
  {
   "cell_type": "code",
   "execution_count": null,
   "metadata": {},
   "outputs": [],
   "source": [
    "# fix scrape chyby u Prahy\n",
    "flat_data[\"Kategorie:Narození v Praze\"][3] = \"554782\""
   ]
  },
  {
   "cell_type": "code",
   "execution_count": null,
   "metadata": {},
   "outputs": [],
   "source": [
    "# finalni organizace dat\n",
    "final_data = []\n",
    "for obec in flat_data.values():\n",
    "    if len(obec) == 4:\n",
    "        final_data.append({\"obec\": obec[2].replace(\"_\",\" \"), \"id\": int(obec[3]), \"rodak\": obec[0], \"pv\": obec[1]})"
   ]
  },
  {
   "cell_type": "code",
   "execution_count": 348,
   "metadata": {},
   "outputs": [],
   "source": [
    "with open(\"final_data.json\", \"w\", encoding=\"utf8\") as file:\n",
    "    file.write(json.dumps(final_data))"
   ]
  }
 ],
 "metadata": {
  "kernelspec": {
   "display_name": "Python 3",
   "language": "python",
   "name": "python3"
  },
  "language_info": {
   "codemirror_mode": {
    "name": "ipython",
    "version": 3
   },
   "file_extension": ".py",
   "mimetype": "text/x-python",
   "name": "python",
   "nbconvert_exporter": "python",
   "pygments_lexer": "ipython3",
   "version": "3.7.3"
  }
 },
 "nbformat": 4,
 "nbformat_minor": 2
}
